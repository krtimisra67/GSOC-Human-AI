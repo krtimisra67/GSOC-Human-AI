{
 "cells": [
  {
   "cell_type": "code",
   "execution_count": 1,
   "id": "19ce941e",
   "metadata": {},
   "outputs": [
    {
     "name": "stderr",
     "output_type": "stream",
     "text": [
      "WARNING: Ignoring invalid distribution ~ensorflow-intel (C:\\Users\\hp\\AppData\\Roaming\\Python\\Python312\\site-packages)\n",
      "WARNING: Ignoring invalid distribution ~ensorflow-intel (C:\\Users\\hp\\AppData\\Roaming\\Python\\Python312\\site-packages)\n",
      "WARNING: Ignoring invalid distribution ~ensorflow-intel (C:\\Users\\hp\\AppData\\Roaming\\Python\\Python312\\site-packages)\n"
     ]
    }
   ],
   "source": [
    "!pip install pdf2image transformers datasets jiwer --quiet"
   ]
  },
  {
   "cell_type": "code",
   "execution_count": 2,
   "id": "b578c5c0",
   "metadata": {},
   "outputs": [],
   "source": [
    "from pdf2image import convert_from_path\n",
    "from transformers import TrOCRProcessor, VisionEncoderDecoderModel\n",
    "from PIL import Image\n",
    "import matplotlib.pyplot as plt\n",
    "import os\n",
    "from jiwer import wer, cer"
   ]
  },
  {
   "cell_type": "code",
   "execution_count": 3,
   "id": "ac8b4ce2",
   "metadata": {},
   "outputs": [
    {
     "data": {
      "application/vnd.jupyter.widget-view+json": {
       "model_id": "4f40e968cc8640538bf1a2091f16f63e",
       "version_major": 2,
       "version_minor": 0
      },
      "text/plain": [
       "preprocessor_config.json:   0%|          | 0.00/224 [00:00<?, ?B/s]"
      ]
     },
     "metadata": {},
     "output_type": "display_data"
    },
    {
     "name": "stderr",
     "output_type": "stream",
     "text": [
      "C:\\Users\\hp\\AppData\\Roaming\\Python\\Python312\\site-packages\\huggingface_hub\\file_download.py:144: UserWarning: `huggingface_hub` cache-system uses symlinks by default to efficiently store duplicated files but your machine does not support them in C:\\Users\\hp\\.cache\\huggingface\\hub\\models--microsoft--trocr-base-printed. Caching files will still work but in a degraded version that might require more space on your disk. This warning can be disabled by setting the `HF_HUB_DISABLE_SYMLINKS_WARNING` environment variable. For more details, see https://huggingface.co/docs/huggingface_hub/how-to-cache#limitations.\n",
      "To support symlinks on Windows, you either need to activate Developer Mode or to run Python as an administrator. In order to activate developer mode, see this article: https://docs.microsoft.com/en-us/windows/apps/get-started/enable-your-device-for-development\n",
      "  warnings.warn(message)\n"
     ]
    },
    {
     "data": {
      "application/vnd.jupyter.widget-view+json": {
       "model_id": "988c8207215b4b13a081f8ec4d804e21",
       "version_major": 2,
       "version_minor": 0
      },
      "text/plain": [
       "tokenizer_config.json:   0%|          | 0.00/1.12k [00:00<?, ?B/s]"
      ]
     },
     "metadata": {},
     "output_type": "display_data"
    },
    {
     "data": {
      "application/vnd.jupyter.widget-view+json": {
       "model_id": "79cfeb1f5c5e419d9d7de61f8482178e",
       "version_major": 2,
       "version_minor": 0
      },
      "text/plain": [
       "vocab.json:   0%|          | 0.00/899k [00:00<?, ?B/s]"
      ]
     },
     "metadata": {},
     "output_type": "display_data"
    },
    {
     "data": {
      "application/vnd.jupyter.widget-view+json": {
       "model_id": "a60e8a16d2274e9f91526896d9f145a9",
       "version_major": 2,
       "version_minor": 0
      },
      "text/plain": [
       "merges.txt:   0%|          | 0.00/456k [00:00<?, ?B/s]"
      ]
     },
     "metadata": {},
     "output_type": "display_data"
    },
    {
     "data": {
      "application/vnd.jupyter.widget-view+json": {
       "model_id": "6cbd0a1661fa4fcdabfea7d146aba9cd",
       "version_major": 2,
       "version_minor": 0
      },
      "text/plain": [
       "special_tokens_map.json:   0%|          | 0.00/772 [00:00<?, ?B/s]"
      ]
     },
     "metadata": {},
     "output_type": "display_data"
    },
    {
     "data": {
      "application/vnd.jupyter.widget-view+json": {
       "model_id": "9740cce663d443dbb5d73a9a684204d6",
       "version_major": 2,
       "version_minor": 0
      },
      "text/plain": [
       "config.json:   0%|          | 0.00/4.13k [00:00<?, ?B/s]"
      ]
     },
     "metadata": {},
     "output_type": "display_data"
    },
    {
     "data": {
      "application/vnd.jupyter.widget-view+json": {
       "model_id": "818ff2a6a16f4c4bb2eabc3870125b7a",
       "version_major": 2,
       "version_minor": 0
      },
      "text/plain": [
       "model.safetensors:   0%|          | 0.00/1.33G [00:00<?, ?B/s]"
      ]
     },
     "metadata": {},
     "output_type": "display_data"
    },
    {
     "name": "stderr",
     "output_type": "stream",
     "text": [
      "Some weights of VisionEncoderDecoderModel were not initialized from the model checkpoint at microsoft/trocr-base-printed and are newly initialized: ['encoder.pooler.dense.bias', 'encoder.pooler.dense.weight']\n",
      "You should probably TRAIN this model on a down-stream task to be able to use it for predictions and inference.\n"
     ]
    },
    {
     "data": {
      "application/vnd.jupyter.widget-view+json": {
       "model_id": "fa38b20e0a504ec5b8fc9380ebb2d60f",
       "version_major": 2,
       "version_minor": 0
      },
      "text/plain": [
       "generation_config.json:   0%|          | 0.00/190 [00:00<?, ?B/s]"
      ]
     },
     "metadata": {},
     "output_type": "display_data"
    }
   ],
   "source": [
    "processor = TrOCRProcessor.from_pretrained(\"microsoft/trocr-base-printed\")\n",
    "model = VisionEncoderDecoderModel.from_pretrained(\"microsoft/trocr-base-printed\")"
   ]
  },
  {
   "cell_type": "code",
   "execution_count": 19,
   "id": "94b3bab5",
   "metadata": {},
   "outputs": [],
   "source": [
    "from pdf2image import convert_from_path\n",
    "\n",
    "# Point to your poppler bin directory\n",
    "\n",
    "poppler_path = r\"C:\\\\poppler-24.08.0\\\\Library\\\\bin\"  # or wherever your `pdftoppm.exe` is\n",
    "\n",
    "pages = convert_from_path(\"C:\\\\Users\\\\hp\\\\Desktop\\\\Skill Enhancing\\\\GSOC\\\\GSoc Test Human AI\\\\renaissance_text.pdf\\\\Ezcaray - Vozes.pdf\", dpi=300, poppler_path=poppler_path)\n"
   ]
  },
  {
   "cell_type": "code",
   "execution_count": 26,
   "id": "08be5292",
   "metadata": {},
   "outputs": [],
   "source": [
    "# Paths\n",
    "pdf_path = \"renaissance_text.pdf\"\n",
    "poppler_path = r\"C:\\\\poppler\\\\Library\\\\bin\"  # adjust if needed\n",
    "output_folder = \"pdf_images\""
   ]
  },
  {
   "cell_type": "code",
   "execution_count": 27,
   "id": "fcf6789c",
   "metadata": {},
   "outputs": [],
   "source": [
    "# Create folder for saving images\n",
    "os.makedirs(output_folder, exist_ok=True)"
   ]
  },
  {
   "cell_type": "code",
   "execution_count": 46,
   "id": "b7a0d3f9",
   "metadata": {},
   "outputs": [
    {
     "name": "stdout",
     "output_type": "stream",
     "text": [
      "PDF exists: True\n",
      "Poppler path exists: True\n",
      "✅ 11 pages converted.\n"
     ]
    }
   ],
   "source": [
    "from pdf2image import convert_from_path\n",
    "import os\n",
    "\n",
    "# Make sure the path matches your folder structure\n",
    "pdf_path = \"renaissance_text.pdf/Ezcaray - Vozes.pdf\"\n",
    "\n",
    "# Change this path to where your Poppler is installed\n",
    "poppler_path = r\"C:\\\\poppler-24.08.0\\\\Library\\\\bin\"  # Example path\n",
    "\n",
    "# Confirm both paths exist\n",
    "print(\"PDF exists:\", os.path.exists(pdf_path))\n",
    "print(\"Poppler path exists:\", os.path.exists(poppler_path))\n",
    "\n",
    "# Try the conversion\n",
    "try:\n",
    "    pages = convert_from_path(pdf_path, dpi=300, poppler_path=poppler_path)\n",
    "    print(f\"✅ {len(pages)} pages converted.\")\n",
    "except Exception as e:\n",
    "    print(\"❌ Error during conversion:\")\n",
    "    print(e)\n"
   ]
  },
  {
   "cell_type": "code",
   "execution_count": 50,
   "id": "17657c50",
   "metadata": {},
   "outputs": [
    {
     "name": "stdout",
     "output_type": "stream",
     "text": [
      "📝 OCR done for page 1\n",
      "📝 OCR done for page 2\n",
      "📝 OCR done for page 3\n",
      "📝 OCR done for page 4\n",
      "📝 OCR done for page 5\n",
      "📝 OCR done for page 6\n",
      "📝 OCR done for page 7\n",
      "📝 OCR done for page 8\n",
      "📝 OCR done for page 9\n",
      "📝 OCR done for page 10\n",
      "📝 OCR done for page 11\n",
      "🎉 All OCR results saved to 'renaissance_text_ocr.txt'\n"
     ]
    }
   ],
   "source": [
    "import os\n",
    "from pdf2image import convert_from_path\n",
    "import pytesseract\n",
    "\n",
    "# OCR all pages and save text\n",
    "full_text = \"\"\n",
    "\n",
    "for i, page in enumerate(pages):\n",
    "    image_path = os.path.join(output_folder, f\"page_{i+1}.png\")\n",
    "    page.save(image_path, \"PNG\")\n",
    "    \n",
    "    text = pytesseract.image_to_string(page, lang='eng')  # Use 'spa' for Spanish\n",
    "    full_text += f\"\\n\\n--- Page {i+1} ---\\n{text}\"\n",
    "    print(f\"📝 OCR done for page {i+1}\")\n",
    "\n",
    "# Save OCR result to a text file\n",
    "with open(\"renaissance_text_ocr.txt\", \"w\", encoding=\"utf-8\") as f:\n",
    "    f.write(full_text)\n",
    "\n",
    "print(\"🎉 All OCR results saved to 'renaissance_text_ocr.txt'\")\n"
   ]
  },
  {
   "cell_type": "markdown",
   "id": "e4c12182",
   "metadata": {},
   "source": [
    "# Evaluation"
   ]
  },
  {
   "cell_type": "code",
   "execution_count": 51,
   "id": "653e4c65",
   "metadata": {},
   "outputs": [
    {
     "name": "stdout",
     "output_type": "stream",
     "text": [
      "CER: 0.045454545454545456\n"
     ]
    }
   ],
   "source": [
    "from jiwer import cer\n",
    "\n",
    "ocr_text = \"texto extraido por ocr\"\n",
    "ground_truth = \"texto extraído por ocr\"\n",
    "print(\"CER:\", cer(ground_truth, ocr_text))\n"
   ]
  },
  {
   "cell_type": "code",
   "execution_count": 60,
   "id": "e31e0b79",
   "metadata": {},
   "outputs": [
    {
     "name": "stdout",
     "output_type": "stream",
     "text": [
      "WER: 0.9992977528089888\n"
     ]
    }
   ],
   "source": [
    "from jiwer import wer\n",
    "\n",
    "print(\"WER:\", wer(ground_truth, ocr_text))\n"
   ]
  }
 ],
 "metadata": {
  "kernelspec": {
   "display_name": "Python 3",
   "language": "python",
   "name": "python3"
  },
  "language_info": {
   "codemirror_mode": {
    "name": "ipython",
    "version": 3
   },
   "file_extension": ".py",
   "mimetype": "text/x-python",
   "name": "python",
   "nbconvert_exporter": "python",
   "pygments_lexer": "ipython3",
   "version": "3.12.4"
  }
 },
 "nbformat": 4,
 "nbformat_minor": 5
}
