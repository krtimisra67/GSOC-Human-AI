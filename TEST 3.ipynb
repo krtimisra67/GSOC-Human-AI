{
 "cells": [
  {
   "cell_type": "code",
   "execution_count": 11,
   "id": "91247da4",
   "metadata": {},
   "outputs": [
    {
     "name": "stdout",
     "output_type": "stream",
     "text": [
      "✅ Saved: synthetic_renaissance_pages\\renaissance_page_1.png\n",
      "✅ Saved: synthetic_renaissance_pages\\renaissance_page_2.png\n",
      "✅ Saved: synthetic_renaissance_pages\\renaissance_page_3.png\n",
      "✅ Saved: synthetic_renaissance_pages\\renaissance_page_4.png\n",
      "✅ Saved: synthetic_renaissance_pages\\renaissance_page_5.png\n",
      "🎨 Done! All 5 synthetic degraded images generated.\n"
     ]
    }
   ],
   "source": [
    "import os\n",
    "import random\n",
    "from PIL import Image, ImageDraw, ImageFont, ImageFilter\n",
    "import numpy as np\n",
    "import matplotlib.pyplot as plt\n",
    "import cv2\n",
    "\n",
    "# Spanish historical text (sample 5 pages)\n",
    "sample_texts = [\n",
    "    \"Don Quijote salió una vez más al campo con su lanza y armadura.\",\n",
    "    \"La nobleza del alma se refleja en cada acto del caballero.\",\n",
    "    \"En la villa de La Mancha vivía un hidalgo de los de lanza en astillero.\",\n",
    "    \"El sabio autor relató hazañas tan grandes como los montes.\",\n",
    "    \"Y así comenzó la leyenda del ingenioso hidalgo Don Quijote de la Mancha.\"\n",
    "]\n",
    "\n",
    "# Make output folder\n",
    "output_dir = \"synthetic_renaissance_pages\"\n",
    "os.makedirs(output_dir, exist_ok=True)\n",
    "\n",
    "# Load a calligraphy or old-style font (fallback to default)\n",
    "try:\n",
    "    font = ImageFont.truetype(\"OldeEnglish.ttf\", 28)  # use a historic-looking font if available\n",
    "except:\n",
    "    font = ImageFont.truetype(\"arial.ttf\", 28)\n",
    "def add_noise(img_np, amount=0.02):\n",
    "    noisy = img_np.copy()\n",
    "    h, w = noisy.shape\n",
    "    num_salt = int(amount * h * w)\n",
    "\n",
    "    # Generate salt (white pixels)\n",
    "    for _ in range(num_salt):\n",
    "        y = np.random.randint(0, h)\n",
    "        x = np.random.randint(0, w)\n",
    "        noisy[y, x] = 255  # white pixel\n",
    "\n",
    "    return noisy\n",
    "\n",
    "\n",
    "def degrade_image(img):\n",
    "    # Ink bleed\n",
    "    img = img.filter(ImageFilter.GaussianBlur(radius=1.2))\n",
    "    \n",
    "    # Convert to numpy for OpenCV\n",
    "    img_np = np.array(img.convert(\"L\"))\n",
    "\n",
    "    # Add smudging using motion blur\n",
    "    kernel_size = 15\n",
    "    kernel_motion_blur = np.zeros((kernel_size, kernel_size))\n",
    "    kernel_motion_blur[int((kernel_size-1)/2), :] = np.ones(kernel_size)\n",
    "    kernel_motion_blur = kernel_motion_blur / kernel_size\n",
    "    img_np = cv2.filter2D(img_np, -1, kernel_motion_blur)\n",
    "\n",
    "    # Add faded effect\n",
    "    img_np = cv2.addWeighted(img_np, 0.8, 255 * np.ones_like(img_np, dtype=np.uint8), 0.2, 0)\n",
    "\n",
    "    # Add noise\n",
    "    img_np = add_noise(img_np, amount=0.01)\n",
    "\n",
    "    return Image.fromarray(img_np)\n",
    "\n",
    "# Generate 5 synthetic pages\n",
    "for i, text in enumerate(sample_texts):\n",
    "    img = Image.new('RGB', (1000, 200), color='white')\n",
    "    draw = ImageDraw.Draw(img)\n",
    "    draw.text((40, 80), text, fill='black', font=font)\n",
    "\n",
    "    degraded = degrade_image(img)\n",
    "    file_path = os.path.join(output_dir, f\"renaissance_page_{i+1}.png\")\n",
    "    degraded.save(file_path)\n",
    "\n",
    "    print(f\"✅ Saved: {file_path}\")\n",
    "\n",
    "print(\"🎨 Done! All 5 synthetic degraded images generated.\")\n"
   ]
  },
  {
   "cell_type": "markdown",
   "id": "c1f417e1",
   "metadata": {},
   "source": [
    "# Evaluation"
   ]
  },
  {
   "cell_type": "code",
   "execution_count": 30,
   "id": "c90a4272",
   "metadata": {},
   "outputs": [],
   "source": [
    "import lpips\n",
    "import torch\n",
    "from PIL import Image\n",
    "import torchvision.transforms as transforms\n",
    "\n",
    "# Load images\n",
    "img1 = Image.open('pdf_images/page_1.png').convert('RGB')\n",
    "img2 = Image.open('synthetic_renaissance_pages/renaissance_page_1.png').convert('RGB')\n",
    "\n",
    "# Resize to same dimensions (if needed)\n",
    "img2 = img2.resize(img1.size)\n",
    "\n",
    "# Convert to tensors [-1, 1]\n",
    "transform = transforms.Compose([\n",
    "    transforms.ToTensor(),\n",
    "    transforms.Normalize(mean=[0.5]*3, std=[0.5]*3)  # scales [0,1] to [-1,1]\n",
    "])\n",
    "\n",
    "img1_tensor = transform(img1).unsqueeze(0)\n",
    "img2_tensor = transform(img2).unsqueeze(0)\n",
    "\n"
   ]
  },
  {
   "cell_type": "code",
   "execution_count": 31,
   "id": "8c436538",
   "metadata": {},
   "outputs": [
    {
     "name": "stdout",
     "output_type": "stream",
     "text": [
      "Setting up [LPIPS] perceptual loss: trunk [alex], v[0.1], spatial [off]\n",
      "Loading model from: C:\\Users\\hp\\AppData\\Roaming\\Python\\Python312\\site-packages\\lpips\\weights\\v0.1\\alex.pth\n",
      "LPIPS Distance: 0.5556963682174683\n"
     ]
    }
   ],
   "source": [
    "loss_fn = lpips.LPIPS(net='alex')  # You can also try 'vgg'\n",
    "distance = loss_fn(img1_tensor, img2_tensor)\n",
    "print(\"LPIPS Distance:\", distance.item())\n"
   ]
  },
  {
   "cell_type": "code",
   "execution_count": null,
   "id": "e2732cef",
   "metadata": {},
   "outputs": [],
   "source": []
  },
  {
   "cell_type": "code",
   "execution_count": null,
   "id": "abcc07e3",
   "metadata": {},
   "outputs": [],
   "source": []
  },
  {
   "cell_type": "code",
   "execution_count": null,
   "id": "6ee19781",
   "metadata": {},
   "outputs": [],
   "source": []
  },
  {
   "cell_type": "code",
   "execution_count": null,
   "id": "0f80c664",
   "metadata": {},
   "outputs": [],
   "source": []
  }
 ],
 "metadata": {
  "kernelspec": {
   "display_name": "Python 3",
   "language": "python",
   "name": "python3"
  },
  "language_info": {
   "codemirror_mode": {
    "name": "ipython",
    "version": 3
   },
   "file_extension": ".py",
   "mimetype": "text/x-python",
   "name": "python",
   "nbconvert_exporter": "python",
   "pygments_lexer": "ipython3",
   "version": "3.12.4"
  }
 },
 "nbformat": 4,
 "nbformat_minor": 5
}
